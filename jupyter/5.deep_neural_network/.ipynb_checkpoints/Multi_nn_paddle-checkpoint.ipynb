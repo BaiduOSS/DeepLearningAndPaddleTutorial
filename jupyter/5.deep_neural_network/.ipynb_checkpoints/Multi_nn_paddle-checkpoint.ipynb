{
 "cells": [
  {
   "cell_type": "markdown",
   "metadata": {},
   "source": [
    "# Paddlepaddle实现浅层神经网络回归\n",
    "\n",
    "在该实验中，我们将使用PaddlePaddle实现深层神经网络，解决识别猫的问题，使用的数据与“Paddlepaddle实现Logistic回归”中一致。\n",
    "\n",
    "该版本代码与第三章PaddlePaddle部分代码大体一致，区别在于增加了隐藏层并设置不同隐藏层节点，隐藏层激活函数换为Relu激活函数，同时修改训练次数和学习率。\n",
    "\n",
    "\n",
    "## 1 - 引用库\n",
    "\n",
    "首先，载入几个需要用到的库，它们分别是：\n",
    "- numpy：一个python的基本库，用于科学计算\n",
    "- dnn_utils：定义了一些工具函数\n",
    "- paddle.v2：paddle深度学习平台\n",
    "- matplotlib.pyplot：用于生成图，在验证模型准确率和展示成本变化趋势时会使用到"
   ]
  },
  {
   "cell_type": "code",
   "execution_count": 1,
   "metadata": {},
   "outputs": [],
   "source": [
    "import matplotlib\n",
    "import numpy as np\n",
    "import paddle.v2 as paddle\n",
    "import matplotlib.pyplot as plt\n",
    "\n",
    "import dnn_utils\n",
    "\n",
    "TRAINING_SET = None\n",
    "TEST_SET = None\n",
    "DATADIM = None"
   ]
  },
  {
   "cell_type": "markdown",
   "metadata": {},
   "source": [
    "## 2 - 数据预处理\n",
    "\n",
    "数据与“Paddlepaddle实现浅层神经网络”中一致，包含了如下内容：\n",
    "\n",
    "- 训练数据集：包含了m_train个图片的数据集，数据的标签（Label）分为cat（y=1）和non-cat（y=0）两类。\n",
    "- 测试数据集：包含了m_test个图片的数据集，数据的标签（Label）同上。"
   ]
  },
  {
   "cell_type": "code",
   "execution_count": 2,
   "metadata": {},
   "outputs": [],
   "source": [
    "# 载入数据(cat/non-cat)\n",
    "def load_data():\n",
    "    \"\"\"\n",
    "    载入数据，数据项包括：\n",
    "        train_set_x_orig：原始训练数据集\n",
    "        train_set_y：原始训练数据标签\n",
    "        test_set_x_orig：原始测试数据集\n",
    "        test_set_y：原始测试数据标签\n",
    "        classes(cat/non-cat)：分类list\n",
    "\n",
    "    Args:\n",
    "    Return:\n",
    "    \"\"\"\n",
    "    global TRAINING_SET, TEST_SET, DATADIM\n",
    "\n",
    "    train_set_x_orig, train_set_y, test_set_x_orig, test_set_y, classes = dnn_utils.load_dataset()\n",
    "    m_train = train_set_x_orig.shape[0]\n",
    "    m_test = test_set_x_orig.shape[0]\n",
    "    num_px = train_set_x_orig.shape[1]\n",
    "\n",
    "    # 定义纬度\n",
    "    DATADIM = num_px * num_px * 3\n",
    "\n",
    "    # 数据展开,注意此处为了方便处理，没有加上.T的转置操作\n",
    "    train_set_x_flatten = train_set_x_orig.reshape(m_train, -1)\n",
    "    test_set_x_flatten = test_set_x_orig.reshape(m_test, -1)\n",
    "\n",
    "    # 归一化\n",
    "    train_set_x = train_set_x_flatten / 255.\n",
    "    test_set_x = test_set_x_flatten / 255.\n",
    "\n",
    "    TRAINING_SET = np.hstack((train_set_x, train_set_y.T))\n",
    "    TEST_SET = np.hstack((test_set_x, test_set_y.T))"
   ]
  },
  {
   "cell_type": "markdown",
   "metadata": {},
   "source": [
    "## 3 - 构造reader\n",
    "\n",
    "构造两个reader()函数来分别读取训练数据集TRAINING_SET和测试数据集TEST_SET，需要注意的是，yield关键字的作用类似return关键字，但不同指出在于yield关键字让reader()变成一个生成器（Generator），生成器不会创建完整的数据集列表，而是在每次循环时计算下一个值，这样不仅节省内存空间，而且符合reader的定义，也即一个真正的读取器。"
   ]
  },
  {
   "cell_type": "code",
   "execution_count": 3,
   "metadata": {},
   "outputs": [],
   "source": [
    "\n",
    "# 读取训练数据或测试数据，服务于train()和test()\n",
    "def read_data(data_set):\n",
    "    \"\"\"\n",
    "        一个reader\n",
    "        Args:\n",
    "            data_set -- 要获取的数据集\n",
    "        Return:\n",
    "            reader -- 用于获取训练数据集及其标签的生成器generator\n",
    "    \"\"\"\n",
    "    def reader():\n",
    "        \"\"\"\n",
    "        一个reader\n",
    "        Args:\n",
    "        Return:\n",
    "            data[:-1], data[-1:] -- 使用yield返回生成器(generator)，\n",
    "                    data[:-1]表示前n-1个元素，也就是训练数据，data[-1:]表示最后一个元素，也就是对应的标签\n",
    "        \"\"\"\n",
    "        for data in data_set:\n",
    "            yield data[:-1], data[-1:]\n",
    "    return reader\n",
    "\n",
    "\n",
    "# 获取训练数据集\n",
    "def train():\n",
    "    \"\"\"\n",
    "    定义一个reader来获取训练数据集及其标签\n",
    "\n",
    "    Args:\n",
    "    Return:\n",
    "        read_data -- 用于获取训练数据集及其标签的reader\n",
    "    \"\"\"\n",
    "    global TRAINING_SET\n",
    "\n",
    "    return read_data(TRAINING_SET)\n",
    "\n",
    "\n",
    "# 获取测试数据集\n",
    "def test():\n",
    "    \"\"\"\n",
    "    定义一个reader来获取测试数据集及其标签\n",
    "\n",
    "    Args:\n",
    "    Return:\n",
    "        read_data -- 用于获取测试数据集及其标签的reader\n",
    "    \"\"\"\n",
    "    global TEST_SET\n",
    "\n",
    "    return read_data(TEST_SET)"
   ]
  },
  {
   "cell_type": "markdown",
   "metadata": {},
   "source": [
    "## 4 - 配置网络结构和设置参数\n",
    "\n",
    "开始配置网络结构，这是本章与Logistic回归的不同之处，本章节实现双层神经网络，增加了一层隐藏层，隐藏层设置7个节点，激活函数使用Relu，其余不变。\n",
    "\n",
    "** 损失函数 **\n",
    "\n",
    "在这里使用PaddlePaddle提供的交叉熵损失函数，cost = paddle.layer.multi_binary_label_cross_entropy_cost(input=y_predict, label=y_label)定义了成本函数，并使用y_predict与label计算成本。定义了成本函数之后，使用PaddlePaddle提供的简单接口parameters=paddle.parameters.create(cost)来创建和初始化参数。\n",
    "\n",
    "** optimizer **\n",
    "\n",
    "参数创建完成后，定义参数优化器optimizer= paddle.optimizer.Momentum(momentum=0, learning_rate=0.000075)，使用Momentum作为优化器，并设置动量momentum为零，学习率为0.00002。注意，读者暂时无需了解Momentum的含义，只需要学会使用即可。\n",
    "\n",
    "** 其它配置 **\n",
    "\n",
    "feeding={‘image’:0, ‘label’:1}是数据层名称和数组索引的映射，用于在训练时输入数据。\n",
    "\n"
   ]
  },
  {
   "cell_type": "code",
   "execution_count": 4,
   "metadata": {},
   "outputs": [],
   "source": [
    "# 配置网络结构和设置参数\n",
    "def netconfig():\n",
    "    \"\"\"\n",
    "    配置网络结构和设置参数\n",
    "    Args:\n",
    "    Return:\n",
    "        image -- 输入层，DATADIM维稠密向量\n",
    "        y_predict -- 输出层，Sigmoid作为激活函数\n",
    "        y_label -- 标签数据，1维稠密向量\n",
    "        cost -- 损失函数\n",
    "        parameters -- 模型参数\n",
    "        optimizer -- 优化器\n",
    "        feeding -- 数据映射，python字典\n",
    "    \"\"\"\n",
    "    # 输入层，paddle.layer.data表示数据层,name=’image’：名称为image,\n",
    "    # type=paddle.data_type.dense_vector(DATADIM)：数据类型为DATADIM维稠密向量\n",
    "    image = paddle.layer.data(\n",
    "        name='image', type=paddle.data_type.dense_vector(DATADIM))\n",
    "\n",
    "    # 隐藏层1，paddle.layer.fc表示全连接层，input=image: 该层输入数据为image\n",
    "    # size=20：神经元个数，act=paddle.activation.Relu()：激活函数为Relu()\n",
    "    h1 = paddle.layer.fc(\n",
    "        input=image, size=20, act=paddle.activation.Relu())\n",
    "\n",
    "    # 隐藏层2，paddle.layer.fc表示全连接层，input=h1: 该层输入数据为h1\n",
    "    # size=7：神经元个数，act=paddle.activation.Relu()：激活函数为Relu()\n",
    "    h2 = paddle.layer.fc(\n",
    "        input=h1, size=7, act=paddle.activation.Relu())\n",
    "\n",
    "    # 隐藏层3，paddle.layer.fc表示全连接层，input=h2: 该层输入数据为h2\n",
    "    # size=5：神经元个数，act=paddle.activation.Relu()：激活函数为Relu()\n",
    "    h3 = paddle.layer.fc(\n",
    "        input=h2, size=5, act=paddle.activation.Relu())\n",
    "\n",
    "    # 输出层，paddle.layer.fc表示全连接层，input=h3: 该层输入数据为h3\n",
    "    # size=1：神经元个数，act=paddle.activation.Sigmoid()：激活函数为Sigmoid()\n",
    "    y_predict = paddle.layer.fc(\n",
    "        input=h3, size=1, act=paddle.activation.Sigmoid())\n",
    "\n",
    "    # 标签数据，paddle.layer.data表示数据层，name=’label’：名称为label\n",
    "    # type=paddle.data_type.dense_vector(1)：数据类型为1维稠密向量\n",
    "    y_label = paddle.layer.data(\n",
    "        name='label', type=paddle.data_type.dense_vector(1))\n",
    "\n",
    "    # 定义成本函数为交叉熵损失函数multi_binary_label_cross_entropy_cost\n",
    "    cost = paddle.layer.multi_binary_label_cross_entropy_cost(input=y_predict, label=y_label)\n",
    "\n",
    "    # 利用cost创建parameters\n",
    "    parameters = paddle.parameters.create(cost)\n",
    "\n",
    "    # 创建optimizer，并初始化momentum和learning_rate\n",
    "    optimizer = paddle.optimizer.Momentum(momentum=0, learning_rate=0.000075)\n",
    "\n",
    "    # 数据层和数组索引映射，用于trainer训练时喂数据\n",
    "    feeding = {\n",
    "        'image': 0,\n",
    "        'label': 1}\n",
    "\n",
    "    data = [image, y_predict, y_label, cost, parameters, optimizer, feeding]\n",
    "\n",
    "    return data\n"
   ]
  },
  {
   "cell_type": "markdown",
   "metadata": {},
   "source": [
    "## 5 - 训练过程\n",
    "\n",
    "接下来进入训练过程。\n",
    "\n",
    "** 初始化 **\n",
    "\n",
    "首先进行最基本的初始化操作，paddle.init(use_gpu=False, trainer_count=1)表示不使用gpu进行训练并且仅使用一个trainer进行训练，load_data()用于获取并预处理数据"
   ]
  },
  {
   "cell_type": "code",
   "execution_count": 5,
   "metadata": {},
   "outputs": [],
   "source": [
    "# 初始化\n",
    "paddle.init(use_gpu=False, trainer_count=1)\n",
    "\n",
    "# 获取数据并预处理\n",
    "load_data()\n",
    "\n",
    "# 配置网络结构和设置参数\n",
    "image, y_predict, y_label, cost, parameters, optimizer, feeding = netconfig()\n",
    "\n",
    "# 记录成本cost\n",
    "costs = []"
   ]
  },
  {
   "cell_type": "markdown",
   "metadata": {},
   "source": [
    "** 模型训练 **\n",
    "\n",
    "上述内容进行了初始化并配置了网络结构，接下来利用上述配置进行模型训练。\n",
    "\n",
    "首先定义一个随机梯度下降trainer，配置三个参数cost、parameters、update_equation，它们分别表示成本函数、参数和更新公式。\n",
    "\n",
    "再利用trainer.train()即可开始真正的模型训练：\n",
    "- paddle.reader.shuffle(train(), buf_size=5000)表示trainer从train()这个reader中读取了buf_size=5000大小的数据并打乱顺序\n",
    "- paddle.batch(reader(), batch_size=256)表示从打乱的数据中再取出batch_size=256大小的数据进行一次迭代训练\n",
    "- 参数feeding用到了之前定义的feeding索引，将数据层image和label输入trainer，也就是训练数据的来源。\n",
    "- 参数event_handler是事件管理机制，读者可以自定义event_handler，根据事件信息作相应的操作。\n",
    "- 参数num_passes=5000表示迭代训练5000次后停止训练。"
   ]
  },
  {
   "cell_type": "code",
   "execution_count": 6,
   "metadata": {},
   "outputs": [
    {
     "name": "stdout",
     "output_type": "stream",
     "text": [
      "Pass 0, Batch 0, Cost 0.689650\n",
      "Pass 100, Batch 0, Cost 0.560792\n",
      "Pass 200, Batch 0, Cost 0.500123\n",
      "Pass 300, Batch 0, Cost 0.446560\n",
      "Pass 400, Batch 0, Cost 0.423323\n",
      "Pass 500, Batch 0, Cost 0.340073\n",
      "Pass 600, Batch 0, Cost 0.264567\n",
      "Pass 700, Batch 0, Cost 0.378781\n",
      "Pass 800, Batch 0, Cost 0.200616\n",
      "Pass 900, Batch 0, Cost 0.127956\n",
      "Pass 1000, Batch 0, Cost 0.022886\n",
      "Pass 1100, Batch 0, Cost 0.014010\n",
      "Pass 1200, Batch 0, Cost 0.010211\n",
      "Pass 1300, Batch 0, Cost 0.008157\n",
      "Pass 1400, Batch 0, Cost 0.006822\n",
      "Pass 1500, Batch 0, Cost 0.005900\n",
      "Pass 1600, Batch 0, Cost 0.005245\n",
      "Pass 1700, Batch 0, Cost 0.004771\n",
      "Pass 1800, Batch 0, Cost 0.004403\n",
      "Pass 1900, Batch 0, Cost 0.004099\n",
      "Pass 2000, Batch 0, Cost 0.003858\n",
      "Pass 2100, Batch 0, Cost 0.003668\n",
      "Pass 2200, Batch 0, Cost 0.003501\n",
      "Pass 2300, Batch 0, Cost 0.003354\n",
      "Pass 2400, Batch 0, Cost 0.003217\n",
      "Pass 2500, Batch 0, Cost 0.003094\n",
      "Pass 2600, Batch 0, Cost 0.002978\n",
      "Pass 2700, Batch 0, Cost 0.002870\n",
      "Pass 2800, Batch 0, Cost 0.002766\n",
      "Pass 2900, Batch 0, Cost 0.002668\n"
     ]
    }
   ],
   "source": [
    "def event_handler(event):\n",
    "    \"\"\"\n",
    "    事件处理器，可以根据训练过程的信息作相应操作\n",
    "\n",
    "    Args:\n",
    "        event -- 事件对象，包含event.pass_id, event.batch_id, event.cost等信息\n",
    "    Return:\n",
    "    \"\"\"\n",
    "    if isinstance(event, paddle.event.EndIteration):\n",
    "        if event.pass_id % 100 == 0:\n",
    "            print(\"Pass %d, Batch %d, Cost %f\" % (event.pass_id, event.batch_id, event.cost))\n",
    "            costs.append(event.cost)\n",
    "            with open('params_pass_%d.tar' % event.pass_id, 'w') as f:\n",
    "                parameters.to_tar(f)\n",
    "\n",
    "# 构造trainer,配置三个参数cost、parameters、update_equation，它们分别表示成本函数、参数和更新公式。\n",
    "trainer = paddle.trainer.SGD(\n",
    "    cost=cost, parameters=parameters, update_equation=optimizer)\n",
    "\n",
    "\"\"\"\n",
    "模型训练\n",
    "paddle.reader.shuffle(train(), buf_size=5000)：表示trainer从train()这个reader中读取了buf_size=5000\n",
    "大小的数据并打乱顺序\n",
    "paddle.batch(reader(), batch_size=256)：表示从打乱的数据中再取出batch_size=256大小的数据进行一次迭代训练\n",
    "feeding：用到了之前定义的feeding索引，将数据层image和label输入trainer\n",
    "event_handler：事件管理机制，可以自定义event_handler，根据事件信息作相应的操作\n",
    "num_passes：定义训练的迭代次数\n",
    "\"\"\"\n",
    "trainer.train(\n",
    "    reader=paddle.batch(\n",
    "        paddle.reader.shuffle(train(), buf_size=5000),\n",
    "        batch_size=256),\n",
    "    feeding=feeding,\n",
    "    event_handler=event_handler,\n",
    "    num_passes=3000)"
   ]
  },
  {
   "cell_type": "markdown",
   "metadata": {},
   "source": [
    "** 模型检验 **\n",
    "\n",
    "模型训练完成后，接下来检验模型的准确率。\n",
    "\n",
    "首先定义get_data()函数来帮助我们读取训练数据和测试数据。"
   ]
  },
  {
   "cell_type": "code",
   "execution_count": 7,
   "metadata": {},
   "outputs": [],
   "source": [
    "# 获取data\n",
    "def get_data(data_creator):\n",
    "    \"\"\"\n",
    "    使用参数data_creator来获取测试数据\n",
    "\n",
    "    Args:\n",
    "        data_creator -- 数据来源,可以是train()或者test()\n",
    "    Return:\n",
    "        result -- 包含测试数据(image)和标签(label)的python字典\n",
    "    \"\"\"\n",
    "    data_creator = data_creator\n",
    "    data_image = []\n",
    "    data_label = []\n",
    "\n",
    "    for item in data_creator():\n",
    "        data_image.append((item[0],))\n",
    "        data_label.append(item[1])\n",
    "\n",
    "    result = {\n",
    "        \"image\": data_image,\n",
    "        \"label\": data_label\n",
    "    }\n",
    "\n",
    "    return result\n",
    "\n"
   ]
  },
  {
   "cell_type": "markdown",
   "metadata": {},
   "source": [
    "获得数据之后，我们就可以开始利用paddle.infer()来进行预测，参数output_layer 表示输出层，参数parameters表示模型参数，参数input表示输入的测试数据。"
   ]
  },
  {
   "cell_type": "code",
   "execution_count": 8,
   "metadata": {},
   "outputs": [],
   "source": [
    "# 获取测试数据和训练数据，用来验证模型准确度\n",
    "train_data = get_data(train())\n",
    "test_data = get_data(test())\n",
    "    \n",
    "# 根据train_data和test_data预测结果，output_layer表示输出层，parameters表示模型参数，input表示输入的测试数据\n",
    "probs_train = paddle.infer(\n",
    "    output_layer=y_predict, parameters=parameters, input=train_data['image']\n",
    ")\n",
    "probs_test = paddle.infer(\n",
    "    output_layer=y_predict, parameters=parameters, input=test_data['image']\n",
    ")"
   ]
  },
  {
   "cell_type": "markdown",
   "metadata": {},
   "source": [
    "获得检测结果probs_train和probs_test之后，我们将结果转化为二分类结果并计算预测正确的结果数量，定义calc_accuracy()来分别计算训练准确度和测试准确度。"
   ]
  },
  {
   "cell_type": "code",
   "execution_count": 9,
   "metadata": {},
   "outputs": [],
   "source": [
    "# 计算准确度\n",
    "def calc_accuracy(probs, data):\n",
    "    \"\"\"\n",
    "    根据数据集来计算准确度accuracy\n",
    "\n",
    "    Args:\n",
    "        probs -- 数据集的预测结果，调用paddle.infer()来获取\n",
    "        data -- 数据集\n",
    "\n",
    "    Return:\n",
    "        calc_accuracy -- 训练准确度\n",
    "    \"\"\"\n",
    "    right = 0\n",
    "    total = len(data['label'])\n",
    "    for i in range(len(probs)):\n",
    "        if float(probs[i][0]) > 0.5 and data['label'][i] == 1:\n",
    "            right += 1\n",
    "        elif float(probs[i][0]) < 0.5 and data['label'][i] == 0:\n",
    "            right += 1\n",
    "    accuracy = (float(right) / float(total)) * 100\n",
    "    return accuracy"
   ]
  },
  {
   "cell_type": "markdown",
   "metadata": {},
   "source": [
    "调用上述两个函数并输出"
   ]
  },
  {
   "cell_type": "code",
   "execution_count": 10,
   "metadata": {},
   "outputs": [
    {
     "name": "stdout",
     "output_type": "stream",
     "text": [
      "train_accuracy: 100.0 %\n",
      "test_accuracy: 80.0 %\n"
     ]
    }
   ],
   "source": [
    "# 计算train_accuracy和test_accuracy\n",
    "print(\"train_accuracy: {} %\".format(calc_accuracy(probs_train, train_data)))\n",
    "print(\"test_accuracy: {} %\".format(calc_accuracy(probs_test, test_data)))"
   ]
  },
  {
   "cell_type": "markdown",
   "metadata": {},
   "source": [
    "** 学习曲线 **\n",
    "\n",
    "可以输出成本的变化情况，利用学习曲线对模型进行分析。"
   ]
  },
  {
   "cell_type": "code",
   "execution_count": 11,
   "metadata": {},
   "outputs": [
    {
     "data": {
      "image/png": "[encoded data removed]",
      "text/plain": [
       "<matplotlib.figure.Figure at 0x7f720eae1f90>"
      ]
     },
     "metadata": {},
     "output_type": "display_data"
    }
   ],
   "source": [
    "costs = np.squeeze(costs)\n",
    "plt.plot(costs)\n",
    "plt.ylabel('cost')\n",
    "plt.xlabel('iterations (per hundreds)')\n",
    "plt.title(\"Learning rate = 0.000075\")\n",
    "plt.show()"
   ]
  },
  {
   "cell_type": "markdown",
   "metadata": {},
   "source": [
    "读者可以看到图中成本在刚开始收敛较快，随着迭代次数变多，收敛速度变慢，最终收敛到一个较小值。"
   ]
  },
  {
   "cell_type": "code",
   "execution_count": null,
   "metadata": {},
   "outputs": [],
   "source": []
  }
 ],
 "metadata": {
  "kernelspec": {
   "display_name": "Python 2",
   "language": "python",
   "name": "python2"
  },
  "language_info": {
   "codemirror_mode": {
    "name": "ipython",
    "version": 2
   },
   "file_extension": ".py",
   "mimetype": "text/x-python",
   "name": "python",
   "nbconvert_exporter": "python",
   "pygments_lexer": "ipython2",
   "version": "2.7.12"
  }
 },
 "nbformat": 4,
 "nbformat_minor": 2
}
