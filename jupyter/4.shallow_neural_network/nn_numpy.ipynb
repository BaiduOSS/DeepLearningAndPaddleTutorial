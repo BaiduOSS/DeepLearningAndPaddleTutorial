{
 "cells": [
  {
   "cell_type": "markdown",
   "metadata": {},
   "source": [
    "# Numpy实现浅层神经网络\n",
    "\n",
    "\n",
    "实践部分将搭建神经网络，包含一个隐藏层，实验将会展现出与Logistic回归的不同之处。\n",
    "\n",
    "实验将使用两层神经网络实现对“花”型图案的分类，如图所示，图中的点包含红点（y=0）和蓝点（y=1）还有点的坐标信息，实验将通过以下步骤完成对两种点的分类，使用Numpy实现。\n",
    "\n",
    "- 输入样本；\n",
    "\n",
    "- 搭建神经网络；\n",
    "\n",
    "- 初始化参数；\n",
    "\n",
    "- 训练，包括前向传播与后向传播（即BP算法）；\n",
    "\n",
    "- 得出训练后的参数；\n",
    "\n",
    "- 根据训练所得参数，绘制两类点边界曲线。\n",
    "\n",
    "<img src=\"image/data.png\" style=\"width:400px;height:300px;\">\n",
    "\n",
    "该实验将使用Python原生库实现两层神经网络的搭建，完成分类。\n"
   ]
  },
  {
   "cell_type": "markdown",
   "metadata": {},
   "source": [
    "## 1 - 引用库\n",
    "\n",
    "首先，载入几个需要用到的库，它们分别是：\n",
    "- numpy：一个python的基本库，用于科学计算\n",
    "- planar_utils：定义了一些工具函数\n",
    "- matplotlib.pyplot：用于生成图，在验证模型准确率和展示成本变化趋势时会使用到"
   ]
  },
  {
   "cell_type": "code",
   "execution_count": 15,
   "metadata": {
    "collapsed": true
   },
   "outputs": [],
   "source": [
    "# Package imports\n",
    "import numpy as np\n",
    "from planar_utils import plot_decision_boundary, sigmoid, load_planar_dataset, load_extra_datasets\n",
    "import matplotlib.pyplot as plt\n",
    "%matplotlib inline\n",
    "\n",
    "np.random.seed(1) # set a seed so that the results are consistent"
   ]
  },
  {
   "cell_type": "markdown",
   "metadata": {},
   "source": [
    "## 2 - 载入数据并观察纬度\n",
    "\n",
    "载入数据后，输出维度"
   ]
  },
  {
   "cell_type": "code",
   "execution_count": 5,
   "metadata": {},
   "outputs": [
    {
     "name": "stdout",
     "output_type": "stream",
     "text": [
      "The shape of X is: (2, 320)\n",
      "The shape of Y is: (1, 320)\n"
     ]
    }
   ],
   "source": [
    "#载入数据\n",
    "train_x, train_y, test_x, test_y = load_planar_dataset()\n",
    "#输出维度\n",
    "shape_X = train_x.shape\n",
    "shape_Y = train_y.shape\n",
    "print ('The shape of X is: ' + str(shape_X))\n",
    "print ('The shape of Y is: ' + str(shape_Y))\n"
   ]
  },
  {
   "cell_type": "markdown",
   "metadata": {},
   "source": [
    "由输出可知每组输入坐标包含两个值，包含一个值，共320组数据（测试集在训练集基础上增加80组数据，共400组）。"
   ]
  },
  {
   "cell_type": "markdown",
   "metadata": {},
   "source": [
    "## 3 - 神经网络模型\n",
    "\n",
    "下面开始搭建神经网络模型，我们采用两层神经网络实验，隐藏层包含4个节点，使用tanh激活函数；输出层包含一个节点，使用Sigmoid激活函数，结果小于0.5即认为是0，否则认为是1。\n",
    "\n",
    "** 神经网络结构 **\n",
    "\n",
    "下面用代码实现神经网络结构，首先确定神经网络的结构，即获取相关数据维度，并设置隐藏层节点个数（本实验设置4个隐藏层节点），用以初始化参数"
   ]
  },
  {
   "cell_type": "code",
   "execution_count": 6,
   "metadata": {
    "collapsed": true
   },
   "outputs": [],
   "source": [
    "#定义各层规模函数\n",
    "def layer_sizes(X, Y):\n",
    "    \"\"\"\n",
    "    参数含义:\n",
    "    X -- 输入的数据\n",
    "    Y -- 输出值\n",
    "    \n",
    "    返回值:\n",
    "    n_x -- 输入层节点数\n",
    "    n_h -- 隐藏层节点数\n",
    "    n_y -- 输出层节点数\n",
    "    \"\"\"\n",
    "    \n",
    "    n_x = X.shape[0] #输入层大小（节点数）\n",
    "    n_h = 4\n",
    "    n_y = Y.shape[0] #输出层大小（节点数）\n",
    "    return (n_x, n_h, n_y)"
   ]
  },
  {
   "cell_type": "markdown",
   "metadata": {},
   "source": [
    "** 初始化模型参数 **\n",
    "\n",
    "获取相关维度信息后，开始初始化参数，定义相关函数"
   ]
  },
  {
   "cell_type": "code",
   "execution_count": 7,
   "metadata": {
    "collapsed": true
   },
   "outputs": [],
   "source": [
    "# 定义函数：初始化参数\n",
    "\n",
    "def initialize_parameters(n_x, n_h, n_y):\n",
    "    \"\"\"\n",
    "    参数:\n",
    "    n_x -- 输入层大小\n",
    "    n_h -- 隐藏层大小\n",
    "    n_y -- 输出层大小\n",
    "    \n",
    "    返回值:\n",
    "    params -- 一个包含所有参数的python字典:\n",
    "                    W1 -- （隐藏层）权重，维度是 (n_h, n_x)\n",
    "                    b1 -- （隐藏层）偏移量，维度是 (n_h, 1)\n",
    "                    W2 -- （输出层）权重，维度是 (n_y, n_h)\n",
    "                    b2 -- （输出层）偏移量，维度是 (n_y, 1)\n",
    "    \"\"\"\n",
    "    \n",
    "    np.random.seed(2) # 设置随机种子\n",
    "    \n",
    "    #随机初始化参数\n",
    "    W1 = np.random.randn(n_h, n_x) * 0.01\n",
    "    b1 = np.zeros((n_h, 1))\n",
    "    W2 = np.random.randn(n_y, n_h) * 0.01\n",
    "    b2 = np.zeros((n_y, 1))\n",
    "    \n",
    "    \n",
    "    assert (W1.shape == (n_h, n_x))\n",
    "    assert (b1.shape == (n_h, 1))\n",
    "    assert (W2.shape == (n_y, n_h))\n",
    "    assert (b2.shape == (n_y, 1))\n",
    "    \n",
    "    parameters = {\"W1\": W1,\n",
    "                  \"b1\": b1,\n",
    "                  \"W2\": W2,\n",
    "                  \"b2\": b2}\n",
    "    \n",
    "    return parameters\n"
   ]
  },
  {
   "cell_type": "markdown",
   "metadata": {},
   "source": [
    "** 前向传播与后向传播 **\n",
    "\n",
    "获取输入数据，参数初始化完成后，可以开始前向传播的计算"
   ]
  },
  {
   "cell_type": "code",
   "execution_count": 8,
   "metadata": {
    "collapsed": true
   },
   "outputs": [],
   "source": [
    "# 定义函数：前向传播\n",
    "\n",
    "def forward_propagation(X, parameters):\n",
    "    \"\"\"\n",
    "    参数:\n",
    "    X -- 输入值 \n",
    "    parameters -- 一个python字典，包含计算所需全部参数（是initialize_parameters函数的输出）    \n",
    "    返回值:\n",
    "    A2 -- 模型输出值\n",
    "    cache -- 一个字典，包含 \"Z1\", \"A1\", \"Z2\" and \"A2\"\n",
    "    \"\"\"\n",
    "    \n",
    "    W1 = parameters[\"W1\"]\n",
    "    b1 = parameters[\"b1\"]\n",
    "    W2 = parameters[\"W2\"]\n",
    "    b2 = parameters[\"b2\"]\n",
    "    \n",
    "    #计算中间量和节点值    \n",
    "    Z1 = np.dot(W1, X) + b1\n",
    "    A1 = np.tanh(Z1)\n",
    "    Z2 = np.dot(W2, A1) + b2\n",
    "    A2 = 1/(1+np.exp(-Z2))\n",
    "    \n",
    "    \n",
    "    assert(A2.shape == (1, X.shape[1]))\n",
    "    \n",
    "    cache = {\"Z1\": Z1,\n",
    "             \"A1\": A1,\n",
    "             \"Z2\": Z2,\n",
    "             \"A2\": A2}\n",
    "    \n",
    "    return A2, cache"
   ]
  },
  {
   "cell_type": "markdown",
   "metadata": {},
   "source": [
    "前向传播最后可得出模型输出值（即代码中的A2），即可计算成本函数cost"
   ]
  },
  {
   "cell_type": "code",
   "execution_count": 9,
   "metadata": {
    "collapsed": true
   },
   "outputs": [],
   "source": [
    "# 定义函数：成本函数\n",
    "\n",
    "def compute_cost(A2, Y, parameters):\n",
    "    \"\"\"\n",
    "   根据第三章给出的公式计算成本\n",
    "    \n",
    "    参数:\n",
    "A2 -- 模型输出值    \n",
    "Y -- 真实值\n",
    "    parameters -- 一个python字典包含参数 W1, b1, W2和b2\n",
    "    \n",
    "    返回值:\n",
    "    cost -- 成本函数\n",
    "    \"\"\"\n",
    "    \n",
    "    m = Y.shape[1] #样本个数\n",
    "\n",
    "    #计算成本\n",
    "    logprobs = np.multiply(np.log(A2), Y) + np.multiply(np.log(1 - A2), 1 - Y)\n",
    "    cost =  -1. / m * np.sum(logprobs)\n",
    "    \n",
    "    cost = np.squeeze(cost)     # 确保维度的正确性                        \n",
    "    assert(isinstance(cost, float))\n",
    "    \n",
    "    return cost"
   ]
  },
  {
   "cell_type": "markdown",
   "metadata": {},
   "source": [
    "计算了成本函数，可以开始后向传播的计算"
   ]
  },
  {
   "cell_type": "code",
   "execution_count": 10,
   "metadata": {
    "collapsed": true
   },
   "outputs": [],
   "source": [
    "# 定义函数：后向传播\n",
    "\n",
    "def backward_propagation(parameters, cache, X, Y):\n",
    "    \"\"\"    \n",
    "    参数:\n",
    "    parameters -- 一个python字典，包含所有参数 \n",
    "    cache -- 一个python字典包含\"Z1\", \"A1\", \"Z2\"和\"A2\".\n",
    "    X -- 输入值\n",
    "    Y -- 真实值\n",
    "    \n",
    "    返回值:\n",
    "    grads -- 一个python字典包含所有参数的梯度\n",
    "    \"\"\"\n",
    "    m = X.shape[1]\n",
    "  \n",
    "    #首先从\"parameters\"获取W1,W2\n",
    "    W1 = parameters[\"W1\"]\n",
    "    W2 = parameters[\"W2\"]\n",
    "        \n",
    "    # 从\"cache\"中获取A1,A2\n",
    "    A1 = cache[\"A1\"]\n",
    "    A2 = cache[\"A2\"]\n",
    "    \n",
    "    #后向传播: 计算dW1, db1, dW2, db2. \n",
    "    dZ2 = A2 - Y\n",
    "    dW2 = 1. / m * np.dot(dZ2, A1.T)\n",
    "    db2 = 1. / m * np.sum(dZ2, axis = 1, keepdims = True)\n",
    "    dZ1 = np.dot(W2.T, dZ2) * (1 - np.power(A1, 2))\n",
    "    dW1 = 1. / m * np.dot(dZ1, X.T)\n",
    "    db1 = 1. / m * np.sum(dZ1, axis = 1, keepdims = True)\n",
    "    \n",
    "    grads = {\"dW1\": dW1,\n",
    "             \"db1\": db1,\n",
    "             \"dW2\": dW2,\n",
    "             \"db2\": db2}\n",
    "    \n",
    "    return grads"
   ]
  },
  {
   "cell_type": "markdown",
   "metadata": {},
   "source": [
    "通过后向传播获取梯度后，可以根据梯度下降公式更新参数"
   ]
  },
  {
   "cell_type": "code",
   "execution_count": 11,
   "metadata": {
    "collapsed": true
   },
   "outputs": [],
   "source": [
    "def update_parameters(parameters, grads, learning_rate = 1.2):\n",
    "    \"\"\"\n",
    "    使用梯度更新参数\n",
    "    \n",
    "    参数:\n",
    "    parameters -- 包含所有参数的python字典 \n",
    "    grads -- 包含所有参数梯度的python字典 \n",
    "    \n",
    "    返回值:\n",
    "    parameters -- 包含更新后参数的python \n",
    "    \"\"\"\n",
    "    #从\"parameters\"中读取全部参数\n",
    "    W1 = parameters[\"W1\"]\n",
    "    b1 = parameters[\"b1\"]\n",
    "    W2 = parameters[\"W2\"]\n",
    "    b2 = parameters[\"b2\"]\n",
    "    \n",
    "    # 从\"grads\"中读取全部梯度\n",
    "    dW1 = grads[\"dW1\"]\n",
    "    db1 = grads[\"db1\"]\n",
    "    dW2 = grads[\"dW2\"]\n",
    "    db2 = grads[\"db2\"]\n",
    "    \n",
    "    #更新参数\n",
    "    W1 = W1 - learning_rate * dW1\n",
    "    b1 = b1 - learning_rate * db1\n",
    "    W2 = W2 - learning_rate * dW2\n",
    "    b2 = b2 - learning_rate * db2\n",
    "    \n",
    "    parameters = {\"W1\": W1,\n",
    "                  \"b1\": b1,\n",
    "                  \"W2\": W2,\n",
    "                  \"b2\": b2}\n",
    "    \n",
    "    return parameters"
   ]
  },
  {
   "cell_type": "markdown",
   "metadata": {},
   "source": [
    "** 神经网络模型 **\n",
    "\n",
    "前向传播、成本函数计算和后向传播构成一个完整的神经网络，将上述函数组合，构建一个神经网络模型"
   ]
  },
  {
   "cell_type": "code",
   "execution_count": 12,
   "metadata": {
    "collapsed": true
   },
   "outputs": [],
   "source": [
    "#定义函数：神经网络模型\n",
    "def nn_model(X, Y, n_h, num_iterations = 10000, print_cost=False):\n",
    "    \"\"\"\n",
    "    参数:\n",
    "    X -- 输入值\n",
    "    Y -- 真实值\n",
    "    n_h -- 隐藏层大小/节点数\n",
    "    num_iterations -- 训练次数\n",
    "    print_cost -- 设置为True，则每1000次训练打印一次成本函数值\n",
    "    \n",
    "    返回值:\n",
    "parameters -- 训练结束，更新后的参数值    \n",
    "\"\"\"\n",
    "    \n",
    "    np.random.seed(3)\n",
    "    n_x = layer_sizes(X, Y)[0]\n",
    "    n_y = layer_sizes(X, Y)[2]\n",
    "    \n",
    "    #根据n_x, n_h, n_y初始化参数，并取出W1,b1,W2,b2   \n",
    "    parameters = initialize_parameters(n_x, n_h, n_y)\n",
    "    W1 = parameters[\"W1\"]\n",
    "    b1 = parameters[\"b1\"]\n",
    "    W2 = parameters[\"W2\"]\n",
    "    b2 = parameters[\"b2\"]\n",
    "    \n",
    "    \n",
    "    for i in range(0, num_iterations):      \n",
    "       \n",
    "        #前向传播， 输入: \"X, parameters\". 输出: \"A2, cache\".\n",
    "        A2, cache = forward_propagation(X, parameters)\n",
    "        \n",
    "        #成本计算. 输入: \"A2, Y, parameters\". 输出: \"cost\".\n",
    "        cost = compute_cost(A2, Y, parameters)\n",
    " \n",
    "        #后向传播， 输入: \"parameters, cache, X, Y\". 输出: \"grads\".\n",
    "        grads = backward_propagation(parameters, cache, X, Y)\n",
    " \n",
    "        #参数更新. 输入: \"parameters, grads\". 输出: \"parameters\".\n",
    "        parameters = update_parameters(parameters, grads)\n",
    "        \n",
    "        #每1000次训练打印一次成本函数值\n",
    "        if print_cost and i % 1000 == 0:\n",
    "            print (\"Cost after iteration %i: %f\" %(i, cost))\n",
    "\n",
    "    return parameters\n"
   ]
  },
  {
   "cell_type": "markdown",
   "metadata": {},
   "source": [
    "** 预测 ** \n",
    "\n",
    "通过上述模型可以训练得出最后的参数，此时需检测其准确率，用训练后的参数预测训练的输出，大于0.5的值视作1，否则视作0"
   ]
  },
  {
   "cell_type": "code",
   "execution_count": 13,
   "metadata": {
    "collapsed": true
   },
   "outputs": [],
   "source": [
    "#定义函数：预测\n",
    "def predict(parameters, X):\n",
    "    \"\"\"\n",
    "    使用训练所得参数，对每个训练样本进行预测\n",
    "    \n",
    "    参数:\n",
    "    parameters -- 保安所有参数的python字典 \n",
    "    X -- 输入值\n",
    "    \n",
    "    返回值：\n",
    "    predictions -- 模型预测值向量(红色: 0 / 蓝色: 1)\n",
    "    \"\"\"\n",
    "    \n",
    "    #使用训练所得参数进行前向传播计算，并将模型输出值转化为预测值（大于0.5视作1，即True）\n",
    "    A2, cache = forward_propagation(X, parameters)\n",
    "    predictions = A2 > 0.5\n",
    "\n",
    "    return predictions"
   ]
  },
  {
   "cell_type": "markdown",
   "metadata": {},
   "source": [
    "下面对获取的数据进行训练，并输出准确率"
   ]
  },
  {
   "cell_type": "code",
   "execution_count": 17,
   "metadata": {},
   "outputs": [
    {
     "name": "stdout",
     "output_type": "stream",
     "text": [
      "Cost after iteration 0: 0.693049\n",
      "Cost after iteration 1000: 0.272304\n",
      "Cost after iteration 2000: 0.261430\n",
      "Cost after iteration 3000: 0.260627\n",
      "Cost after iteration 4000: 0.257842\n",
      "Cost after iteration 5000: 0.255809\n",
      "Cost after iteration 6000: 0.254249\n",
      "Cost after iteration 7000: 0.253019\n",
      "Cost after iteration 8000: 0.252028\n",
      "Cost after iteration 9000: 0.251208\n",
      "Train Accuracy: 90%\n",
      "Test Accuracy: 89%\n"
     ]
    },
    {
     "data": {
      "image/png": "[encoded data removed]",
      "text/plain": [
       "<matplotlib.figure.Figure at 0x12201cb70>"
      ]
     },
     "metadata": {},
     "output_type": "display_data"
    }
   ],
   "source": [
    "#建立神经网络模型\n",
    "parameters = nn_model(train_x, train_y, n_h = 4, num_iterations = 10000, print_cost=True)\n",
    "\n",
    "#绘制分类边界\n",
    "plot_decision_boundary(lambda x: predict(parameters, x.T), train_x, train_y)\n",
    "plt.title(\"Decision Boundary for hidden layer size \" + str(4))\n",
    " \n",
    "predictions = predict(parameters, train_x)\n",
    "# 预测训练集\n",
    "print('Train Accuracy: %d' % float((np.dot(train_y, predictions.T) +\n",
    "                                    np.dot(1 - train_y, 1 - predictions.T)) /\n",
    "                                    float(train_y.size) * 100) + '%')\n",
    "# 预测测试集\n",
    "predictions = predict(parameters, test_x)\n",
    "print('Test Accuracy: %d' % float((np.dot(test_y, predictions.T) +\n",
    "                                    np.dot(1 - test_y, 1 - predictions.T)) /\n",
    "                                    float(test_y.size) * 100) + '%')"
   ]
  },
  {
   "cell_type": "markdown",
   "metadata": {},
   "source": [
    "对比逻辑回归47%的准确率和分类结果图，神经网络分类的结果提高了不少，这是因为神经网络增加的隐藏层，为模型训练提供了更多选择，使得神经网络能拟合更加复杂的模型，对于更加复杂的图案分类更加准确。\n"
   ]
  },
  {
   "cell_type": "code",
   "execution_count": null,
   "metadata": {
    "collapsed": true
   },
   "outputs": [],
   "source": []
  },
  {
   "cell_type": "code",
   "execution_count": null,
   "metadata": {
    "collapsed": true
   },
   "outputs": [],
   "source": []
  },
  {
   "cell_type": "code",
   "execution_count": null,
   "metadata": {
    "collapsed": true
   },
   "outputs": [],
   "source": []
  }
 ],
 "metadata": {
  "kernelspec": {
   "display_name": "python2",
   "language": "python",
   "name": "python2"
  },
  "language_info": {
   "codemirror_mode": {
    "name": "ipython",
    "version": 3
   },
   "file_extension": ".py",
   "mimetype": "text/x-python",
   "name": "python",
   "nbconvert_exporter": "python",
   "pygments_lexer": "ipython3",
   "version": "3.6.1"
  }
 },
 "nbformat": 4,
 "nbformat_minor": 2
}
