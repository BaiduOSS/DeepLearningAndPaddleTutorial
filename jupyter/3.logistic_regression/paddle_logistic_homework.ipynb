{
 "cells": [
  {
   "cell_type": "markdown",
   "metadata": {},
   "source": [
    "# Paddlepaddle实现逻辑回归 - 识别猫\n",
    "\n",
    "欢迎大家来到这个有趣的实验！在这个实验中，大家将学使用PaddlePaddle实现Logistic回归模型来解决识别猫的问题，一步步跟随内容完成训练，加深对逻辑回归理论内容的理解并串联各个知识点，收获对神经网络和深度学习概念的整体把握。 \n",
    "\n",
    "** 你将学会 **\n",
    "\n",
    "- 预处理图片数据\n",
    "\n",
    "- 利用PaddlePaddle框架实现Logistic回归模型：\n",
    "\n",
    "在开始实验之前，让我们简单介绍一下图片处理的相关知识：\n",
    "\n",
    "** 图片处理 **\n",
    "\n",
    "由于识别猫问题涉及到图片处理指示，这里对计算机如何保存图片做一个简单的介绍。在计算机中，图片被存储为三个独立的矩阵，分别对应图3-6中的红、绿、蓝三个颜色通道，如果图片是64*64像素的，就会有三个64*64大小的矩阵，要把这些像素值放进一个特征向量中，需要定义一个特征向量X，将三个颜色通道中的所有像素值都列出来。如果图片是64*64大小的，那么特征向量X的总纬度就是64*64*3，也就是12288维。这样一个12288维矩阵就是Logistic回归模型的一个训练数据。\n",
    "\n",
    "<img src=\"images/image_to_vector.png\" style=\"width:550px;height:300px;\">\n",
    "\n",
    "现在，让我们正式进入实验吧！\n",
    "\n",
    "## 1 - 引用库\n",
    "\n",
    "首先，载入几个需要用到的库，它们分别是：\n",
    "\n",
    "- numpy：一个python的基本库，用于科学计算\n",
    "- matplotlib.pyplot：用于生成图，在验证模型准确率和展示成本变化趋势时会使用到\n",
    "- lr_utils：定义了load_dataset()方法用于载入数据\n",
    "- paddle.v2：PaddlePaddle深度学习框架"
   ]
  },
  {
   "cell_type": "code",
   "execution_count": 1,
   "metadata": {},
   "outputs": [],
   "source": [
    "import sys\n",
    "import numpy as np\n",
    "\n",
    "import lr_utils\n",
    "import matplotlib.pyplot as plt\n",
    "\n",
    "import paddle.v2 as paddle\n",
    "\n",
    "%matplotlib inline"
   ]
  },
  {
   "cell_type": "markdown",
   "metadata": {},
   "source": [
    "## 2 - 数据预处理\n",
    "\n",
    "这里简单介绍数据集及其结构。数据集以hdf5文件的形式存储，包含了如下内容：\n",
    "\n",
    "- 训练数据集：包含了m_train个图片的数据集，数据的标签（Label）分为cat（y=1）和non-cat（y=0）两类。\n",
    "- 测试数据集：包含了m_test个图片的数据集，数据的标签（Label）同上。\n",
    "\n",
    "单个图片数据的存储形式为（num_x, num_x, 3），其中num_x表示图片的长或宽（数据集图片的长和宽相同），数字3表示图片的三通道（RGB）。\n",
    "在代码中使用一行代码来读取数据，读者暂不需要了解数据的读取过程，只需调用load_dataset()方法，并存储五个返回值，以便后续的使用。\n",
    "    \n",
    "需要注意的是，添加“_orig”后缀表示该数据为原始数据，因为之后还需要对数据进行进一步处理。未添加“_orig”的数据则表示之后不对该数据作进一步处理。"
   ]
  },
  {
   "cell_type": "code",
   "execution_count": 2,
   "metadata": {},
   "outputs": [],
   "source": [
    "train_set_x_orig, train_set_y, test_set_x_orig, test_set_y, classes = lr_utils.load_dataset()"
   ]
  },
  {
   "cell_type": "code",
   "execution_count": 3,
   "metadata": {},
   "outputs": [
    {
     "name": "stdout",
     "output_type": "stream",
     "text": [
      "y = [0], it's a 'non-cat' picture.\n"
     ]
    },
    {
     "data": {
      "image/png": "[encoded data removed]",
      "text/plain": [
       "<matplotlib.figure.Figure at 0x7f41385ca9d0>"
      ]
     },
     "metadata": {},
     "output_type": "display_data"
    }
   ],
   "source": [
    "# 图片示例\n",
    "index = 23\n",
    "plt.imshow(train_set_x_orig[index])\n",
    "print (\"y = \" + str(train_set_y[:, index]) + \", it's a '\" + classes[np.squeeze(train_set_y[:, index])].decode(\"utf-8\") +  \"' picture.\")"
   ]
  },
  {
   "cell_type": "markdown",
   "metadata": {},
   "source": [
    "获取数据后的下一步工作是获得数据的相关信息，如训练样本个数m_train、测试样本个数m_test和图片的长度或宽度num_x，使用numpy.array.shape来获取数据的相关信息。\n"
   ]
  },
  {
   "cell_type": "markdown",
   "metadata": {},
   "source": [
    "** 练习: ** 查看样本信息:\n",
    "    - m_train (训练样本数)\n",
    "    - m_test (测试样本数)\n",
    "    - num_px （图片长或宽）\n",
    "`train_set_x_orig` 是一个(m_train, num_px, num_px, 3)形状的numpy数组。举个例子，你可以使用`train_set_x_orig.shape[0]`来获得 `m_train`。"
   ]
  },
  {
   "cell_type": "code",
   "execution_count": 4,
   "metadata": {},
   "outputs": [
    {
     "name": "stdout",
     "output_type": "stream",
     "text": [
      "训练样本数: m_train = None\n",
      "测试样本数: m_test = None\n",
      "图片高度/宽度: num_px = None\n",
      "图片大小: (None, None, 3)\n",
      "train_set_x shape: (209, 64, 64, 3)\n",
      "train_set_y shape: (1, 209)\n",
      "test_set_x shape: (50, 64, 64, 3)\n",
      "test_set_y shape: (1, 50)\n"
     ]
    }
   ],
   "source": [
    "### START CODE HERE ### (≈ 3 lines of code)\n",
    "m_train = None\n",
    "m_test = None\n",
    "num_px = None\n",
    "### END CODE HERE ###\n",
    "\n",
    "print (\"训练样本数: m_train = \" + str(m_train))\n",
    "print (\"测试样本数: m_test = \" + str(m_test))\n",
    "print (\"图片高度/宽度: num_px = \" + str(num_px))\n",
    "print (\"图片大小: (\" + str(num_px) + \", \" + str(num_px) + \", 3)\")\n",
    "print (\"train_set_x shape: \" + str(train_set_x_orig.shape))\n",
    "print (\"train_set_y shape: \" + str(train_set_y.shape))\n",
    "print (\"test_set_x shape: \" + str(test_set_x_orig.shape))\n",
    "print (\"test_set_y shape: \" + str(test_set_y.shape))"
   ]
  },
  {
   "cell_type": "markdown",
   "metadata": {},
   "source": [
    "**期望输出：**: \n",
    "<table style=\"width:15%\">\n",
    "  <tr>\n",
    "    <td>**m_train**</td>\n",
    "    <td> 209 </td> \n",
    "  </tr>\n",
    "  \n",
    "  <tr>\n",
    "    <td>**m_test**</td>\n",
    "    <td> 50 </td> \n",
    "  </tr>\n",
    "  \n",
    "  <tr>\n",
    "    <td>**num_px**</td>\n",
    "    <td> 64 </td> \n",
    "  </tr>\n",
    "  \n",
    "</table>\n",
    "\n"
   ]
  },
  {
   "cell_type": "markdown",
   "metadata": {},
   "source": [
    "接下来需要对数据作进一步处理，为了便于训练，你可以忽略图片的结构信息，将包含图像长、宽和通道数信息的三维数组压缩成一维数组，图片数据的形状将由(64, 64, 3)转化为(64 * 64 * 3, 1)。\n",
    "\n",
    "** 练习：** \n",
    "\n",
    "将数据形状由(64, 64, 3)转化为(64 * 64 * 3, 1)。\n",
    "\n",
    "** 技巧：**\n",
    "\n",
    "我们可以使用一个小技巧来将(a,b,c,d)形状的矩阵转化为(b$*$c$*$d, a)形状的矩阵: \n",
    "\n",
    "```python\n",
    "X_flatten = X.reshape(X.shape[0], -1)\n",
    "```\n"
   ]
  },
  {
   "cell_type": "code",
   "execution_count": 5,
   "metadata": {},
   "outputs": [
    {
     "name": "stdout",
     "output_type": "stream",
     "text": [
      "train_set_x_flatten shape: (209, 12288)\n",
      "train_set_y shape: (1, 209)\n",
      "test_set_x_flatten shape: (50, 12288)\n",
      "test_set_y shape: (1, 50)\n"
     ]
    }
   ],
   "source": [
    "# 转换数据形状\n",
    "\n",
    "### START CODE HERE ### (≈ 2 lines of code)\n",
    "train_set_x_flatten = None\n",
    "test_set_x_flatten = None\n",
    "### END CODE HERE ###\n",
    "\n",
    "print (\"train_set_x_flatten shape: \" + str(train_set_x_flatten.shape))\n",
    "print (\"train_set_y shape: \" + str(train_set_y.shape))\n",
    "print (\"test_set_x_flatten shape: \" + str(test_set_x_flatten.shape))\n",
    "print (\"test_set_y shape: \" + str(test_set_y.shape))"
   ]
  },
  {
   "cell_type": "markdown",
   "metadata": {},
   "source": [
    "**期望输出**: \n",
    "\n",
    "<table style=\"width:35%\">\n",
    "  <tr>\n",
    "    <td>**train_set_x_flatten shape**</td>\n",
    "    <td> (209, 12288)</td> \n",
    "  </tr>\n",
    "  <tr>\n",
    "    <td>**train_set_y shape**</td>\n",
    "    <td>(1, 209)</td> \n",
    "  </tr>\n",
    "  <tr>\n",
    "    <td>**test_set_x_flatten shape**</td>\n",
    "    <td>(50, 12288)</td> \n",
    "  </tr>\n",
    "  <tr>\n",
    "    <td>**test_set_y shape**</td>\n",
    "    <td>(1, 50)</td> \n",
    "  </tr>\n",
    "</table>"
   ]
  },
  {
   "cell_type": "markdown",
   "metadata": {},
   "source": [
    "在开始训练之前，还需要对数据进行归一化处理。图片采用红、绿、蓝三通道的方式来表示颜色，每个通道的单个像素点都存储着一个0-255的像素值，所以图片的归一化处理十分简单，只需要将数据集中的每个值除以255即可，但需要注意的是结果值应为float类型，直接除以255会导致结果错误，在Python中除以255.即可将结果转化为float类型。\n",
    "现在让我们来归一化数据吧！\n"
   ]
  },
  {
   "cell_type": "code",
   "execution_count": 6,
   "metadata": {},
   "outputs": [],
   "source": [
    "### START CODE HERE ### (≈ 2 lines of code)\n",
    "train_set_x = None\n",
    "test_set_x = None\n",
    "### END CODE HERE ###"
   ]
  },
  {
   "cell_type": "markdown",
   "metadata": {
    "collapsed": true
   },
   "source": [
    "为了方便后续的测试工作，添加了合并数据集和标签集的操作，使用numpy.hstack实现numpy数组的横向合并。\n"
   ]
  },
  {
   "cell_type": "code",
   "execution_count": 7,
   "metadata": {},
   "outputs": [],
   "source": [
    "train_set = np.hstack((train_set_x, train_set_y.T))\n",
    "test_set = np.hstack((test_set_x, test_set_y.T))"
   ]
  },
  {
   "cell_type": "markdown",
   "metadata": {},
   "source": [
    "<font color='blue'>\n",
    "**经过上面的实验，大家应该记住:**\n",
    "\n",
    "对数据进行预处理的一般步骤是:\n",
    "    \n",
    "- 了解数据的维度和形状等信息，例如(m_train, m_test, num_px, ...)\n",
    "- 降低数据纬度，例如将数据维度(num_px, num_px, 3)转化为(num_px \\* num_px \\* 3, 1)\n",
    "- 数据归一化"
   ]
  },
  {
   "cell_type": "markdown",
   "metadata": {
    "collapsed": true
   },
   "source": [
    "至此我们就完成了数据预处理工作！在接下来的练习中我们将构造reader，用于读取数据。"
   ]
  },
  {
   "cell_type": "markdown",
   "metadata": {},
   "source": [
    "## 3 - 构造reader\n",
    "\n",
    "构造read_data()函数，来读取训练数据集train_set或者测试数据集test_set。它的具体实现是在read_data()函数内部构造一个reader()，使用yield关键字来让reader()成为一个Generator（生成器），注意，yield关键字的作用和使用方法类似return关键字，不同之处在于yield关键字可以构造生成器（Generator）。虽然我们可以直接创建一个包含所有数据的列表，但是由于内存限制，我们不可能创建一个无限大的或者巨大的列表，并且很多时候在创建了一个百万数量级别的列表之后，我们却只需要用到开头的几个或几十个数据，这样造成了极大的浪费，而生成器的工作方式是在每次循环时计算下一个值，不断推算出后续的元素，不会创建完整的数据集列表，从而节约了内存使用。\n",
    "\n",
    "** 练习：**现在让我们使用yield来构造一个reader()吧！"
   ]
  },
  {
   "cell_type": "code",
   "execution_count": 8,
   "metadata": {},
   "outputs": [],
   "source": [
    "# 读取训练数据或测试数据\n",
    "def read_data(data_set):\n",
    "    \"\"\"\n",
    "        一个reader\n",
    "        Args:\n",
    "            data_set -- 要获取的数据集\n",
    "        Return:\n",
    "            reader -- 用于获取训练数据集及其标签的生成器generator\n",
    "    \"\"\"\n",
    "    def reader():\n",
    "        \"\"\"\n",
    "        一个reader\n",
    "        Args:\n",
    "        Return:\n",
    "            data[:-1], data[-1:] -- 使用yield返回生成器(generator)，\n",
    "                    data[:-1]表示前n-1个元素，也就是训练数据，data[-1:]表示最后一个元素，也就是对应的标签\n",
    "        \"\"\"\n",
    "        for data in data_set:\n",
    "            ### START CODE HERE ### (≈ 2 lines of code)\n",
    "            pass\n",
    "            ### END CODE HERE ###\n",
    "    return reader\n",
    "\n",
    "\n"
   ]
  },
  {
   "cell_type": "code",
   "execution_count": 9,
   "metadata": {},
   "outputs": [
    {
     "name": "stdout",
     "output_type": "stream",
     "text": [
      "test_array for read_data:\n",
      "([1, 1, 1, 1], [0])\n",
      "([2, 2, 2, 2], [1])\n",
      "([3, 3, 3, 3], [0])\n"
     ]
    }
   ],
   "source": [
    "test_array = [[1,1,1,1,0],\n",
    "                [2,2,2,2,1],\n",
    "                [3,3,3,3,0]]\n",
    "\n",
    "print(\"test_array for read_data:\")\n",
    "for value in read_data(test_array)():\n",
    "    print(value)"
   ]
  },
  {
   "cell_type": "markdown",
   "metadata": {},
   "source": [
    "**期望输出**: \n",
    "\n",
    "<table>\n",
    "  <tr>\n",
    "    <td>([1, 1, 1, 1], [0])</td>\n",
    "  </tr>\n",
    "  <tr>\n",
    "    <td>([2, 2, 2, 2], [1])</td> \n",
    "  </tr>\n",
    "    <td>([3, 3, 3, 3], [0])</td> \n",
    "  </tr>\n",
    "</table>"
   ]
  },
  {
   "cell_type": "markdown",
   "metadata": {},
   "source": [
    "## 4 - 训练过程\n",
    "\n",
    "完成了数据的预处理工作并构造了read_data()来读取数据，接下来将进入模型的训练过程，使用PaddlePaddle来定义构造可训练的Logistic回归模型，关键步骤如下：\n",
    "\n",
    "- 初始化\n",
    "\n",
    "- 配置网络结构和设置参数\n",
    "    - 配置网络结构\n",
    "    - 定义损失函数cost\n",
    "    - 创建parameters\n",
    "    - 定义优化器optimizer\n",
    "\n",
    "- 模型训练\n",
    "\n",
    "- 模型检验\n",
    "\n",
    "- 预测\n",
    "\n",
    "- 绘制学习曲线\n",
    "\n",
    "** （1）初始化 **\n",
    "\n",
    "首先进行最基本的初始化操作，在PaddlePaddle中使用paddle.init(use_gpu=False, trainer_count=1)来进行初始化：\n",
    "\n",
    "- use_gpu=False表示不使用gpu进行训练\n",
    "- trainer_count=1表示仅使用一个训练器进行训练"
   ]
  },
  {
   "cell_type": "code",
   "execution_count": 10,
   "metadata": {},
   "outputs": [],
   "source": [
    "# 初始化\n",
    "paddle.init(use_gpu=False, trainer_count=1)"
   ]
  },
  {
   "cell_type": "markdown",
   "metadata": {},
   "source": [
    "** （2）配置网络结构和设置参数 **\n",
    "\n",
    "** 配置网络结构 **\n",
    "\n",
    "我们知道Logistic回归模型结构相当于一个只含一个神经元的神经网络，如下图所示，只包含输入数据以及输出层，不存在隐藏层，所以只需配置输入层(input)、输出层(predict)和标签层(label)即可。\n",
    "\n",
    "<img src=\"images/logistic.png\" width=\"200px\">\n",
    "\n",
    "** 练习：**接下来让我们使用PaddlePaddle提供的接口开始配置Logistic回归模型的简单网络结构吧，一共需要配置三层：\n",
    "\n",
    "** 输入层： **\n",
    "\n",
    "我们可以定义image=paddle.layer.data(name=”image”, type=paddle.data_type.dense_vector(data_dim))来表示生成一个数据输入层，名称为“image”，数据类型为data_dim维向量；\n",
    "\n",
    "在定义输入层之前，我们需要使用之前计算的num_px来获取数据维度data_dim，data_dim=num_px \\* num_px \\* 3\n",
    "\n",
    "** 输出层： **\n",
    "\n",
    "我们可以定义predict=paddle.layer.fc(input=image, size=1, act=paddle.activation.Sigmoid())表示生成一个全连接层，输入数据为image，神经元个数为1，激活函数为Sigmoid()；\n",
    "\n",
    "** 标签层 **\n",
    "\n",
    "我们可以定义label=paddle.layer.data(name=”label”, type=paddle.data_type.dense_vector(1))表示生成一个数据层，名称为“label”，数据类型为1维向量。\n"
   ]
  },
  {
   "cell_type": "code",
   "execution_count": 11,
   "metadata": {},
   "outputs": [],
   "source": [
    "# 配置网络结构\n",
    "\n",
    "\n",
    "# 数据层需要使用到数据维度data_dim，根据num_px来计算data_dim\n",
    "\n",
    "### START CODE HERE ### (≈ 2 lines of code)\n",
    "data_dim = None\n",
    "### END CODE HERE ###\n",
    "\n",
    "# 输入层，paddle.layer.data表示数据层\n",
    "\n",
    "image = None\n",
    "\n",
    "# 输出层，paddle.layer.fc表示全连接层\n",
    "\n",
    "### START CODE HERE ### (≈ 2 lines of code)\n",
    "predict = None\n",
    "### END CODE HERE ###\n",
    "\n",
    "# 标签数据层，paddle.layer.data表示数据层\n",
    "\n",
    "### START CODE HERE ### (≈ 2 lines of code)\n",
    "label = None\n",
    "### END CODE HERE ###"
   ]
  },
  {
   "cell_type": "markdown",
   "metadata": {},
   "source": [
    "** 定义损失函数 **\n",
    "\n",
    "在配置网络结构之后，我们需要定义一个损失函数来计算梯度并优化参数，在这里我们可以使用PaddlePaddle提供的交叉熵损失函数，定义cost = paddle.layer.multi_binary_label_cross_entropy_cost(input=predict, label=label)，使用predict与label计算成本。"
   ]
  },
  {
   "cell_type": "code",
   "execution_count": 12,
   "metadata": {},
   "outputs": [],
   "source": [
    "# 损失函数，使用交叉熵损失函数\n",
    "### START CODE HERE ### (≈ 2 lines of code)\n",
    "cost = None\n",
    "### END CODE HERE ###"
   ]
  },
  {
   "cell_type": "markdown",
   "metadata": {},
   "source": [
    "** 创建parameters **\n",
    "\n",
    "PaddlePaddle中提供了接口paddle.parameters.create(cost)来创建和初始化参数，参数cost表示基于我们刚刚创建的cost损失函数来创建和初始化参数。"
   ]
  },
  {
   "cell_type": "code",
   "execution_count": 13,
   "metadata": {},
   "outputs": [],
   "source": [
    "# 创建parameters\n",
    "\n",
    "### START CODE HERE ### (≈ 2 lines of code)\n",
    "parameters = None\n",
    "### END CODE HERE ###"
   ]
  },
  {
   "cell_type": "markdown",
   "metadata": {},
   "source": [
    "** optimizer **\n",
    "\n",
    "参数创建完成后，定义参数优化器optimizer= paddle.optimizer.Momentum(momentum=0, learning_rate=0.00002)，使用Momentum作为优化器，并设置动量momentum为零，学习率为0.00002。注意，暂时无需了解Momentum的含义，大家只需要学会使用即可。"
   ]
  },
  {
   "cell_type": "code",
   "execution_count": 5,
   "metadata": {},
   "outputs": [],
   "source": [
    "#创建optimizer\n",
    "\n",
    "### START CODE HERE ### (≈ 2 lines of code)\n",
    "optimizer = None\n",
    "### END CODE HERE ###"
   ]
  },
  {
   "cell_type": "markdown",
   "metadata": {},
   "source": [
    "** 其它配置 **\n",
    "\n",
    "feeding={‘image’:0, ‘label’:1}是数据层名称和数组索引的映射，用于在训练时输入数据，costs数组用于存储cost值，记录成本变化情况。\n",
    "最后定义函数event_handler(event)用于事件处理，事件event中包含batch_id，pass_id，cost等信息，我们可以打印这些信息或作其它操作。"
   ]
  },
  {
   "cell_type": "code",
   "execution_count": 6,
   "metadata": {},
   "outputs": [],
   "source": [
    "# 数据层和数组索引映射，用于trainer训练时喂数据\n",
    "feeding = {\n",
    "        'image': 0,\n",
    "        'label': 1}\n",
    "\n",
    "# 记录成本cost\n",
    "costs = []\n",
    "\n",
    "# 事件处理\n",
    "def event_handler(event):\n",
    "    \"\"\"\n",
    "    事件处理器，可以根据训练过程的信息作相应操作\n",
    "\n",
    "    Args:\n",
    "        event -- 事件对象，包含event.pass_id, event.batch_id, event.cost等信息\n",
    "    Return:\n",
    "    \"\"\"\n",
    "    if isinstance(event, paddle.event.EndIteration):\n",
    "        if event.pass_id % 100 == 0:\n",
    "            print(\"Pass %d, Batch %d, Cost %f\" % (event.pass_id, event.batch_id, event.cost))\n",
    "            ### START CODE HERE ### (≈ 1 lines of code)\n",
    "                                    # add event.cost to costs\n",
    "            ### END CODE HERE ###"
   ]
  },
  {
   "cell_type": "markdown",
   "metadata": {},
   "source": [
    "** 模型训练 **\n",
    "\n",
    "上述内容进行了模型初始化、网络结构的配置并创建了损失函数、参数、优化器，接下来利用上述配置进行模型训练。\n",
    "\n",
    "\n",
    "首先定义一个随机梯度下降trainer，配置三个参数cost、parameters、update_equation，它们分别表示损失函数、参数和更新公式。\n",
    "\n",
    "再利用trainer.train()即可开始真正的模型训练，我们可以设置参数如下：\n",
    "\n",
    "<img src=\"images/code1.png\" width=\"500px\">\n",
    "\n",
    "- paddle.reader.shuffle(train(), buf_size=5000)表示trainer从train()这个reader中读取了buf_size=5000大小的数据并打乱顺序\n",
    "- paddle.batch(reader(), batch_size=256)表示从打乱的数据中再取出batch_size=256大小的数据进行一次迭代训练\n",
    "- 参数feeding用到了之前定义的feeding索引，将数据层image和label输入trainer，也就是训练数据的来源。\n",
    "- 参数event_handler是事件管理机制，读者可以自定义event_handler，根据事件信息作相应的操作。\n",
    "- 参数num_passes=5000表示迭代训练5000次后停止训练。\n",
    "\n",
    "** 练习：**定义trainer并开始训练模型（大家可以自己定义buf_size，batch_size，num_passes等参数，但是建议大家先参考上述的参数设置，在完成整个训练之后，再回过头来调整这些参数，看看结果会有什么不同）"
   ]
  },
  {
   "cell_type": "code",
   "execution_count": 17,
   "metadata": {},
   "outputs": [
    {
     "name": "stdout",
     "output_type": "stream",
     "text": [
      "Pass 0, Batch 0, Cost 0.718985\n",
      "Pass 100, Batch 0, Cost 0.497979\n",
      "Pass 200, Batch 0, Cost 0.431610\n",
      "Pass 300, Batch 0, Cost 0.386631\n",
      "Pass 400, Batch 0, Cost 0.352110\n",
      "Pass 500, Batch 0, Cost 0.324237\n",
      "Pass 600, Batch 0, Cost 0.301005\n",
      "Pass 700, Batch 0, Cost 0.281201\n",
      "Pass 800, Batch 0, Cost 0.264035\n",
      "Pass 900, Batch 0, Cost 0.248960\n",
      "Pass 1000, Batch 0, Cost 0.235580\n",
      "Pass 1100, Batch 0, Cost 0.223603\n",
      "Pass 1200, Batch 0, Cost 0.212803\n",
      "Pass 1300, Batch 0, Cost 0.203003\n",
      "Pass 1400, Batch 0, Cost 0.194064\n",
      "Pass 1500, Batch 0, Cost 0.185871\n",
      "Pass 1600, Batch 0, Cost 0.178331\n",
      "Pass 1700, Batch 0, Cost 0.171367\n",
      "Pass 1800, Batch 0, Cost 0.164913\n",
      "Pass 1900, Batch 0, Cost 0.158914\n"
     ]
    }
   ],
   "source": [
    "# 构造trainer\n",
    "\n",
    "### START CODE HERE ### (≈ 4 lines of code)\n",
    "trainer = paddle.trainer.SGD(\n",
    "    cost=None, \n",
    "    parameters=None, \n",
    "    update_equation=None)\n",
    "### END CODE HERE ###\n",
    "\n",
    "# 模型训练\n",
    "\n",
    "### START CODE HERE ### (≈ 7 lines of code)\n",
    "trainer.train(\n",
    "    reader=paddle.batch(\n",
    "        paddle.reader.shuffle(None, buf_size=None),\n",
    "        batch_size=None),\n",
    "    feeding=None,\n",
    "    event_handler=None,\n",
    "    num_passes=None)\n",
    "### END CODE HERE ###"
   ]
  },
  {
   "cell_type": "markdown",
   "metadata": {},
   "source": [
    "** 模型检验 **\n",
    "\n",
    "模型训练完成后，接下来检验模型的准确率。\n",
    "\n",
    "在这里我们首先需要定义一个函数get_data()来帮助我们获得用于检验模型准确率的数据，而数据的来源是read_data()返回的训练数据和测试数据。  "
   ]
  },
  {
   "cell_type": "code",
   "execution_count": 18,
   "metadata": {},
   "outputs": [],
   "source": [
    "# 获取数据\n",
    "def get_data(data_creator):\n",
    "    \"\"\"\n",
    "    使用参数data_creator来获取测试数据\n",
    "\n",
    "    Args:\n",
    "        data_creator -- 数据来源,可以是train()或者test()\n",
    "    Return:\n",
    "        result -- 包含测试数据(image)和标签(label)的python字典\n",
    "    \"\"\"\n",
    "    data_creator = data_creator\n",
    "    data_image = []\n",
    "    data_label = []\n",
    "\n",
    "    for item in data_creator():\n",
    "        data_image.append((item[0],))\n",
    "        data_label.append(item[1])\n",
    "\n",
    "    ### START CODE HERE ### (≈ 4 lines of code)\n",
    "    result = {\n",
    "        \"image\": data_image,\n",
    "        \"label\": data_label\n",
    "    }\n",
    "    ### END CODE HERE ###\n",
    "\n",
    "    return result\n"
   ]
  },
  {
   "cell_type": "markdown",
   "metadata": {},
   "source": [
    "获得数据之后，我们就可以开始利用paddle.infer()来进行预测，参数output_layer 表示输出层，参数parameters表示模型参数，参数input表示输入的测试数据。\n",
    "\n",
    "** 练习：**\n",
    "\n",
    "- 利用get_data()获取测试数据和训练数据\n",
    "\n",
    "- 使用paddle.infer()进行预测"
   ]
  },
  {
   "cell_type": "code",
   "execution_count": 19,
   "metadata": {},
   "outputs": [],
   "source": [
    "# 获取测试数据和训练数据，用来验证模型准确度\n",
    "\n",
    "### START CODE HERE ### (≈ 2 lines of code)\n",
    "train_data = None\n",
    "test_data = None\n",
    "### END CODE HERE ###\n",
    "    \n",
    "# 根据train_data和test_data预测结果，output_layer表示输出层，parameters表示模型参数，input表示输入的测试数据\n",
    "\n",
    "### START CODE HERE ### (≈ 2 lines of code)\n",
    "probs_train = paddle.infer(\n",
    "    output_layer=predict, parameters=parameters, input=None    # input=训练数据\n",
    ")\n",
    "probs_test = paddle.infer(\n",
    "    output_layer=predict, parameters=parameters, input=None    # input=测试数据\n",
    ")\n",
    "### END CODE HERE ###"
   ]
  },
  {
   "cell_type": "markdown",
   "metadata": {},
   "source": [
    "获得检测结果probs_train和probs_test之后，我们将结果转化为二分类结果并计算预测正确的结果数量，定义train_accuracy和test_accuracy来分别计算训练准确度和测试准确度。注意，在test_accuracy中，我们不仅计算了准确度，并且传入了一个test_data_y数组参数用于存储预测结果，方便后续的查看。"
   ]
  },
  {
   "cell_type": "code",
   "execution_count": 20,
   "metadata": {},
   "outputs": [],
   "source": [
    "# 训练集准确度\n",
    "def train_accuracy(probs_train, train_data):\n",
    "    \"\"\"\n",
    "    根据训练数据集来计算训练准确度train_accuracy\n",
    "\n",
    "    Args:\n",
    "        probs_train -- 训练数据集的预测结果，调用paddle.infer()来获取\n",
    "        train_data -- 训练数据集\n",
    "\n",
    "    Return:\n",
    "        train_accuracy -- 训练准确度train_accuracy\n",
    "    \"\"\"\n",
    "    train_right = 0\n",
    "    train_total = len(train_data['label'])\n",
    "    for i in range(len(probs_train)):\n",
    "        if float(probs_train[i][0]) > 0.5 and train_data['label'][i] == 1:\n",
    "            train_right += 1\n",
    "        elif float(probs_train[i][0]) < 0.5 and train_data['label'][i] == 0:\n",
    "            train_right += 1\n",
    "    train_accuracy = (float(train_right) / float(train_total)) * 100\n",
    "\n",
    "    return train_accuracy\n",
    "\n",
    "\n",
    "# 测试集准确度\n",
    "def test_accuracy(probs_test, test_data, test_data_y):\n",
    "    \"\"\"\n",
    "    根据测试数据集来计算测试准确度test_accuracy\n",
    "\n",
    "    Args:\n",
    "        probs_test -- 测试数据集的预测结果，调用paddle.infer()来获取\n",
    "        test_data -- 测试数据集\n",
    "\n",
    "    Return:\n",
    "        test_accuracy -- 测试准确度test_accuracy\n",
    "    \"\"\"\n",
    "    test_right = 0\n",
    "    test_total = len(test_data['label'])\n",
    "    for i in range(len(probs_test)):\n",
    "        if float(probs_test[i][0]) > 0.5:\n",
    "            test_data_y.append(1)\n",
    "            if test_data['label'][i] == 1:\n",
    "                test_right += 1\n",
    "        elif float(probs_test[i][0]) < 0.5:\n",
    "            test_data_y.append(0)\n",
    "            if test_data['label'][i] == 0:\n",
    "                test_right += 1\n",
    "\n",
    "    test_accuracy = (float(test_right) / float(test_total)) * 100\n",
    "\n",
    "    return test_accuracy"
   ]
  },
  {
   "cell_type": "markdown",
   "metadata": {},
   "source": [
    "调用上述两个函数并输出"
   ]
  },
  {
   "cell_type": "code",
   "execution_count": 21,
   "metadata": {},
   "outputs": [
    {
     "name": "stdout",
     "output_type": "stream",
     "text": [
      "train_accuracy: 98.5645933014 %\n",
      "test_accuracy: 70.0 %\n"
     ]
    }
   ],
   "source": [
    "# 计算train_accuracy和test_accuracy\n",
    "test_data_y = []\n",
    "\n",
    "### START CODE HERE ### (≈ 2 lines of code)\n",
    "print(\"train_accuracy: {} %\".format(None))    # 利用train_accuracy()计算训练集准确率\n",
    "print(\"test_accuracy: {} %\".format(None))     # 利用test_accuracy()计算测试集准确率\n",
    "### END CODE HERE ###"
   ]
  },
  {
   "cell_type": "markdown",
   "metadata": {},
   "source": [
    "** 期望输出：**\n",
    "\n",
    "<table style=\"width:40%\"> \n",
    "\n",
    "    <tr>\n",
    "        <td> **train_accuracy **  </td> \n",
    "        <td> $\\approx$ 98% </td>\n",
    "    </tr>\n",
    "\n",
    "    <tr>\n",
    "        <td> **test Accuracy**  </td> \n",
    "        <td> $\\approx$ 70% </td>\n",
    "    </tr>\n",
    "</table> \n",
    "\n",
    "\n"
   ]
  },
  {
   "cell_type": "markdown",
   "metadata": {},
   "source": [
    "因为数据集和逻辑回归模型的限制，并且没有加入其它优化方式，所以70%的测试集准确率已经是相当好的结果，如果你也得到相似的结果，大约98%的训练集准确率和70%的测试集准确率，那么恭喜你到目前为止的工作都很棒，你已经配置了不错的模型和参数。当然你可以返回去调整一些参数，例如learning_rate/batch_size/num_passes，或者参考官方[PaddlePaddle文档](http://paddlepaddle.org/docs/develop/documentation/zh/getstarted/index_cn.html)来修改你的模型，尝试去犯错或者通过调参来得到更好的结果都能帮助你熟悉深度学习以及PaddlePaddle框架的使用！"
   ]
  },
  {
   "cell_type": "markdown",
   "metadata": {},
   "source": [
    "** 学习曲线 **\n",
    "\n",
    "接下来我们利用之前保存的costs数据来输出成本的变化情况，利用学习曲线对模型进行分析。"
   ]
  },
  {
   "cell_type": "code",
   "execution_count": 22,
   "metadata": {},
   "outputs": [
    {
     "data": {
      "image/png": "[encoded data removed]",
      "text/plain": [
       "<matplotlib.figure.Figure at 0x7ff2e5e0fa50>"
      ]
     },
     "metadata": {},
     "output_type": "display_data"
    }
   ],
   "source": [
    "costs = np.squeeze(costs)\n",
    "plt.plot(costs)\n",
    "plt.ylabel('cost')\n",
    "plt.xlabel('iterations (per hundreds)')\n",
    "plt.title(\"Learning rate = 0.00002\")\n",
    "plt.show()"
   ]
  },
  {
   "cell_type": "markdown",
   "metadata": {},
   "source": [
    "可以看到图中成本在刚开始收敛较快，随着迭代次数变多，收敛速度变慢，最终收敛到一个较小值。\n",
    "\n",
    "接下来，利用之前保存的测试结果test_data_y来对测试数据集中的单个图片进行预测，通过index来选择一张图片，看看你的模型是不是正确预测了这张图片吧！"
   ]
  },
  {
   "cell_type": "code",
   "execution_count": 23,
   "metadata": {},
   "outputs": [
    {
     "name": "stdout",
     "output_type": "stream",
     "text": [
      "y = 0, you predicted that it is a \"non-cat\" picture.\n"
     ]
    },
    {
     "data": {
      "image/png": "[encoded data removed]",
      "text/plain": [
       "<matplotlib.figure.Figure at 0x7ff2e56f4390>"
      ]
     },
     "metadata": {},
     "output_type": "display_data"
    }
   ],
   "source": [
    "# Example of a picture that was wrongly classified.\n",
    "index = 14\n",
    "plt.imshow((np.array(test_data['image'][index])).reshape((64, 64, 3)))\n",
    "print (\"y = \" + str(test_data_y[index]) + \", you predicted that it is a \\\"\" + classes[test_data_y[index]].decode(\"utf-8\") +  \"\\\" picture.\")"
   ]
  },
  {
   "cell_type": "markdown",
   "metadata": {},
   "source": [
    "# 5 - 总结\n",
    "\n",
    "通过这个练习我们应该记住：\n",
    "\n",
    "1. 数据预处理是训练模型之前的必需工作，有时候理解数据并做好预处理工作比构建模型需要更多时间和耐心！\n",
    "\n",
    "2. PaddlePaddle训练模型的基本步骤: \n",
    "\n",
    "    - 初始化\n",
    "\n",
    "    - 配置网络结构和设置参数：\n",
    "        - 定义成本函数cost\n",
    "        - 创建parameters\n",
    "        - 定义优化器optimizer\n",
    "    - 定义event_handler\n",
    "\n",
    "    - 定义trainer\n",
    "\n",
    "    - 开始训练\n",
    "\n",
    "    - 预测infer()并输出准确率train_accuracy和test_accuracy\n",
    "\n",
    "3. 练习中的许多参数可以作调整，例如修改学习率会对模型结果产生很大影响，大家可以在本练习或者后面的练习中多做些尝试。\n",
    "\n",
    "\n",
    "至此Logistic回归模型的训练工作完成，我们发现在使用PaddlePaddle进行模型配置和训练的过程中不用考虑参数的初始化、成本函数、激活函数、梯度下降、参数更新和预测等具体细节，只需要简单地配置网络结构和trainer即可，并且PaddlePaddle提供了许多接口来改变学习率、成本函数、批次大小等许多参数来改变模型的学习效果，使用起来更加灵活，方便测试，在之后的练习中，我们会对PaddlePaddle更加熟悉。"
   ]
  },
  {
   "cell_type": "markdown",
   "metadata": {
    "collapsed": true
   },
   "source": []
  }
 ],
 "metadata": {
  "kernelspec": {
   "display_name": "Python 2",
   "language": "python",
   "name": "python2"
  },
  "language_info": {
   "codemirror_mode": {
    "name": "ipython",
    "version": 2
   },
   "file_extension": ".py",
   "mimetype": "text/x-python",
   "name": "python",
   "nbconvert_exporter": "python",
   "pygments_lexer": "ipython2",
   "version": "2.7.12"
  }
 },
 "nbformat": 4,
 "nbformat_minor": 2
}
